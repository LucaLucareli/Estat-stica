{
 "cells": [
  {
   "cell_type": "code",
   "execution_count": 1,
   "metadata": {},
   "outputs": [
    {
     "name": "stderr",
     "output_type": "stream",
     "text": [
      "C:\\Users\\lucalucareli-ieg\\AppData\\Local\\Packages\\PythonSoftwareFoundation.Python.3.11_qbz5n2kfra8p0\\LocalCache\\local-packages\\Python311\\site-packages\\tqdm\\auto.py:21: TqdmWarning:\n",
      "\n",
      "IProgress not found. Please update jupyter and ipywidgets. See https://ipywidgets.readthedocs.io/en/stable/user_install.html\n",
      "\n"
     ]
    }
   ],
   "source": [
    "import pandas as pd\n",
    "import plotly.graph_objects as go\n",
    "from plotly.subplots import make_subplots\n",
    "import plotly.offline as pyo\n",
    "from ydata_profiling import ProfileReport"
   ]
  },
  {
   "cell_type": "code",
   "execution_count": 3,
   "metadata": {},
   "outputs": [
    {
     "name": "stderr",
     "output_type": "stream",
     "text": [
      "Summarize dataset:  78%|███████▊  | 18/23 [00:23<00:03,  1.60it/s, Calculate auto correlation]    C:\\Users\\lucalucareli-ieg\\AppData\\Local\\Packages\\PythonSoftwareFoundation.Python.3.11_qbz5n2kfra8p0\\LocalCache\\local-packages\\Python311\\site-packages\\ydata_profiling\\model\\correlations.py:66: UserWarning:\n",
      "\n",
      "There was an attempt to calculate the auto correlation, but this failed.\n",
      "To hide this warning, disable the calculation\n",
      "(using `df.profile_report(correlations={\"auto\": {\"calculate\": False}})`\n",
      "If this is problematic for your use case, please report this as an issue:\n",
      "https://github.com/ydataai/ydata-profiling/issues\n",
      "(include the error message: 'could not convert string to float: 'white'')\n",
      "\n",
      "Summarize dataset:  90%|█████████ | 46/51 [00:36<00:06,  1.26s/it, Missing diagram heatmap]           C:\\Users\\lucalucareli-ieg\\AppData\\Local\\Packages\\PythonSoftwareFoundation.Python.3.11_qbz5n2kfra8p0\\LocalCache\\local-packages\\Python311\\site-packages\\seaborn\\matrix.py:260: FutureWarning:\n",
      "\n",
      "Format strings passed to MaskedConstant are ignored, but in future may error or produce different behavior\n",
      "\n",
      "C:\\Users\\lucalucareli-ieg\\AppData\\Local\\Packages\\PythonSoftwareFoundation.Python.3.11_qbz5n2kfra8p0\\LocalCache\\local-packages\\Python311\\site-packages\\ydata_profiling\\model\\missing.py:78: UserWarning:\n",
      "\n",
      "There was an attempt to generate the Heatmap missing values diagrams, but this failed.\n",
      "To hide this warning, disable the calculation\n",
      "(using `df.profile_report(missing_diagrams={\"Heatmap\": False}`)\n",
      "If this is problematic for your use case, please report this as an issue:\n",
      "https://github.com/ydataai/ydata-profiling/issues\n",
      "(include the error message: 'could not convert string to float: '--'')\n",
      "\n",
      "Summarize dataset: 100%|██████████| 51/51 [00:40<00:00,  1.27it/s, Completed]               \n",
      "Generate report structure: 100%|██████████| 1/1 [00:13<00:00, 13.96s/it]\n",
      "Render HTML: 100%|██████████| 1/1 [00:03<00:00,  3.25s/it]\n",
      "Export report to file: 100%|██████████| 1/1 [00:00<00:00,  2.17it/s]\n"
     ]
    }
   ],
   "source": [
    "data_path = '../../arquivos/car_prices.csv'\n",
    "\n",
    "df = pd.read_csv(data_path)\n",
    "\n",
    "df = df[df['year'] >= 2000]\n",
    "\n",
    "df = df[['year', 'make', 'state', 'color', 'mmr', 'sellingprice', 'odometer']]\n",
    "\n",
    "profile = ProfileReport(df, title=\"Car Prices Report\")\n",
    "\n",
    "profile.to_file(\"report.html\")\n",
    "\n",
    "num_subplots_internos = 4\n",
    "intervalo = (df['mmr'].max() - df['mmr'].min()) / num_subplots_internos\n",
    "\n",
    "# Primeiro gráfico: Boxplot\n",
    "df_normalizado = df.copy()\n",
    "\n",
    "df_normalizado['mmr'] = pd.to_numeric(df_normalizado['mmr'], errors='coerce')\n",
    "\n",
    "media_mmr = df_normalizado['mmr'].mean()\n",
    "desvio_padrao_mmr = df_normalizado['mmr'].std()\n",
    "\n",
    "df_normalizado['mmr'] = (df_normalizado['mmr'] - media_mmr) / desvio_padrao_mmr\n",
    "\n",
    "fig1 = make_subplots(rows=2, cols=1, subplot_titles=(\"MMR Normalizado Geral\", \"MMR Normalizado por Marca\"))\n",
    "\n",
    "fig1.add_trace(go.Box(y=df_normalizado['mmr'], name='MMR Normalizado'), row=1, col=1)\n",
    "\n",
    "for i, marca in enumerate(df_normalizado['make'].unique(), start=1):\n",
    "    dados_marca = df_normalizado[df_normalizado['make'] == marca]['mmr']\n",
    "    fig1.add_trace(go.Box(y=dados_marca, name=marca), row=2, col=1)\n",
    "\n",
    "fig1.update_layout(\n",
    "    title='Boxplot dos Preços MMR Normalizados',\n",
    "    yaxis=dict(title='MMR Normalizado'),\n",
    "    xaxis=dict(title='Marca'),\n",
    "    showlegend=True,\n",
    "    height=1600, \n",
    "    width=1600\n",
    ")\n",
    "\n",
    "\n",
    "# Segundo gráfico: Histogram\n",
    "fig2 = make_subplots(rows=num_subplots_internos, cols=1, subplot_titles=[f\"Intervalo {i+1}\" for i in range(num_subplots_internos)])\n",
    "\n",
    "for i in range(num_subplots_internos):\n",
    "    mmr_min = df['mmr'].min() + i * intervalo\n",
    "    mmr_max = df['mmr'].min() + (i + 1) * intervalo\n",
    "    dados_intervalo = df[(df['mmr'] >= mmr_min) & (df['mmr'] < mmr_max)]\n",
    "\n",
    "    for marca in dados_intervalo['make'].unique():\n",
    "        dados_marca_intervalo = dados_intervalo[dados_intervalo['make'] == marca]\n",
    "        fig2.add_trace(go.Histogram(x=dados_marca_intervalo['mmr'], name=marca, opacity=0.7), row=i+1, col=1)\n",
    "\n",
    "fig2.update_layout(height=1600, width=1600, title_text=\"Histogram dos Preços MMR por Intervalo\")\n",
    "fig2.update_yaxes(title_text='Número de Veículos', tickfont=dict(size=10))\n",
    "fig2.update_xaxes(title_text='Preços MMR', tickfont=dict(size=10))\n",
    "\n",
    "html_boxplot = pyo.plot(fig1, include_plotlyjs=True, output_type='div')\n",
    "html_histogram = pyo.plot(fig2, include_plotlyjs=True, output_type='div')\n",
    "\n",
    "with open(\"report.html\", \"r\", encoding='utf-8') as file:\n",
    "    html_content = file.read()\n",
    "\n",
    "css_centralizar = \"\"\"\n",
    "<style>\n",
    "    .plotly-graph-div {\n",
    "        display: block;\n",
    "        margin-left: auto;\n",
    "        margin-right: auto;\n",
    "    }\n",
    "</style>\n",
    "\"\"\"\n",
    "\n",
    "html_content += css_centralizar + html_boxplot + html_histogram\n",
    "\n",
    "with open(\"report_with_plotly.html\", \"w\", encoding='utf-8') as file:\n",
    "    file.write(html_content)\n"
   ]
  }
 ],
 "metadata": {
  "kernelspec": {
   "display_name": "Python 3",
   "language": "python",
   "name": "python3"
  },
  "language_info": {
   "codemirror_mode": {
    "name": "ipython",
    "version": 3
   },
   "file_extension": ".py",
   "mimetype": "text/x-python",
   "name": "python",
   "nbconvert_exporter": "python",
   "pygments_lexer": "ipython3",
   "version": "3.11.8"
  }
 },
 "nbformat": 4,
 "nbformat_minor": 2
}
