{
 "cells": [
  {
   "cell_type": "code",
   "execution_count": null,
   "metadata": {},
   "outputs": [],
   "source": [
    "import pandas as pd\n",
    "import plotly.graph_objects as go\n",
    "from plotly.subplots import make_subplots"
   ]
  },
  {
   "cell_type": "code",
   "execution_count": null,
   "metadata": {},
   "outputs": [],
   "source": [
    "data_path = '../../../../arquivos/car_prices.csv'\n",
    "df = pd.read_csv(data_path).dropna()\n",
    "df = df[['make', 'odometer', 'sellingprice']]\n",
    "df = df[df['year'] >= 2000]"
   ]
  },
  {
   "cell_type": "markdown",
   "metadata": {},
   "source": [
    "### Criando uma nova coluna com a divisão do odometer por sellingprice\n",
    "\n",
    "odometer_sp for maior que 1. O carro foi vendido por um preço menor ao esperado com base na quilometragem percorrida. </br>\n",
    "odometer_sp for igual a 1. O carro foi vendido a um preço considerado adequado em relação à sua quilometragem. </br>\n",
    "odometer_sp for menor que 1. O carro foi vendido a um preço maior ao esperado com base na quilometragem percorrida."
   ]
  },
  {
   "cell_type": "code",
   "execution_count": null,
   "metadata": {},
   "outputs": [],
   "source": [
    "#\"eficiência de preço\"\n",
    "df['odometer_sp'] = df['odometer']/df['sellingprice']"
   ]
  },
  {
   "cell_type": "code",
   "execution_count": null,
   "metadata": {},
   "outputs": [],
   "source": [
    "equal_1 = df[df['odometer_sp'] == 1]\n",
    "greater_than_1 = df[df['odometer_sp'] > 1]\n",
    "less_than_1 = df[df['odometer_sp'] < 1]\n",
    "\n",
    "titles = [\"Odometer por sellingprice = 1\", \"Odometer por sellingprice > 1\", \"Odometer por sellingprice < 1\"]"
   ]
  },
  {
   "cell_type": "markdown",
   "metadata": {},
   "source": [
    "<ul>\n",
    "    <li><strong>Boxplot</strong></li>\n",
    "    <li><strong>Histograma</strong></li>\n",
    "\n",
    "</ul>"
   ]
  },
  {
   "cell_type": "code",
   "execution_count": null,
   "metadata": {},
   "outputs": [],
   "source": [
    "fig = make_subplots(rows=3, cols=1, subplot_titles=titles)\n",
    "\n",
    "for i in range(3):\n",
    "    group = [equal_1, greater_than_1, less_than_1][i]\n",
    "    for marca in group['make'].unique():\n",
    "        normalized_value = group[group['make'] == marca]['odometer_sp']\n",
    "        fig.add_trace(go.Box(y=normalized_value, name=marca), row=i+1, col=1)\n",
    "\n",
    "fig.update_layout(\n",
    "    title='Boxplot dos Preços odometer Normalizados por sellingprice',\n",
    "    showlegend=True,\n",
    "    height=1000, \n",
    "    width=1200\n",
    ")\n",
    "\n",
    "fig.show()"
   ]
  },
  {
   "cell_type": "code",
   "execution_count": null,
   "metadata": {},
   "outputs": [],
   "source": [
    "fig = make_subplots(rows=3, cols=1, subplot_titles=titles)\n",
    "\n",
    "for title in titles:\n",
    "    group = [equal_1, greater_than_1, less_than_1][titles.index(title)]\n",
    "    for marca in df['make'].unique():\n",
    "        marca_data = group[group['make'] == marca]['odometer_sp']\n",
    "        fig.add_trace(go.Histogram(x=marca_data, name=marca, opacity=0.7), row=titles.index(title)+1, col=1)\n",
    "\n",
    "fig.update_layout(\n",
    "    title='Histogramas para diferentes valores de odometer_sp, divididos por marca',\n",
    "    height=800,\n",
    "    width=1200\n",
    ")\n",
    "fig.show()"
   ]
  }
 ],
 "metadata": {
  "kernelspec": {
   "display_name": "base",
   "language": "python",
   "name": "python3"
  },
  "language_info": {
   "codemirror_mode": {
    "name": "ipython",
    "version": 3
   },
   "file_extension": ".py",
   "mimetype": "text/x-python",
   "name": "python",
   "nbconvert_exporter": "python",
   "pygments_lexer": "ipython3",
   "version": "3.11.9"
  }
 },
 "nbformat": 4,
 "nbformat_minor": 2
}
