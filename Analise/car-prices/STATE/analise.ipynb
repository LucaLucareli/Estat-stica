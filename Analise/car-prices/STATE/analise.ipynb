{
 "cells": [
  {
   "cell_type": "markdown",
   "metadata": {},
   "source": [
    "## Importações"
   ]
  },
  {
   "cell_type": "code",
   "execution_count": null,
   "metadata": {},
   "outputs": [],
   "source": [
    "import pandas as pd\n",
    "import plotly.graph_objects as go\n",
    "import plotly.express as px\n",
    "from collections import Counter"
   ]
  },
  {
   "cell_type": "markdown",
   "metadata": {},
   "source": [
    "## Leitura"
   ]
  },
  {
   "cell_type": "code",
   "execution_count": null,
   "metadata": {},
   "outputs": [],
   "source": [
    "data_path = '../../arquivos/car_prices.csv'\n",
    "df = pd.read_csv(data_path).dropna()\n",
    "df = df[df['year'] >= 2000]"
   ]
  },
  {
   "cell_type": "code",
   "execution_count": null,
   "metadata": {},
   "outputs": [],
   "source": [
    "display(df)"
   ]
  },
  {
   "cell_type": "markdown",
   "metadata": {},
   "source": [
    "## Análise"
   ]
  },
  {
   "cell_type": "markdown",
   "metadata": {},
   "source": [
    "### Todos os sellingprice por estado"
   ]
  },
  {
   "cell_type": "code",
   "execution_count": null,
   "metadata": {},
   "outputs": [],
   "source": [
    "# Boxplot\n",
    "fig = px.box(df, x=\"state\", y=\"sellingprice\", points=\"outliers\", color= \"state\")\n",
    " \n",
    "fig.show()"
   ]
  },
  {
   "cell_type": "markdown",
   "metadata": {},
   "source": [
    "### Estados com as maiores quantidade de carros de luxo"
   ]
  },
  {
   "cell_type": "code",
   "execution_count": null,
   "metadata": {},
   "outputs": [],
   "source": [
    "media = int((df.loc[df['sellingprice'] >= 50000].count() / df['state'].nunique()).iloc[0])\n",
    "print(\"Média: \",media)"
   ]
  },
  {
   "cell_type": "code",
   "execution_count": null,
   "metadata": {},
   "outputs": [],
   "source": []
  },
  {
   "cell_type": "code",
   "execution_count": null,
   "metadata": {},
   "outputs": [],
   "source": [
    "#filtro para recortar os estados que tem mais carros de luxo\n",
    "states = []\n",
    "\n",
    "print(\"Média: \",media)\n",
    "\n",
    "for v in df[\"state\"].unique():\n",
    "    state_sellingprice = df[df['state'] == v]\n",
    "    c= 0\n",
    "    for p in state_sellingprice['sellingprice']:\n",
    "        if p >= 50000:\n",
    "            c += 1\n",
    "    if c >= media:\n",
    "        states.append(v)\n",
    "        print(v,c)\n",
    "\n",
    "print(states)\n"
   ]
  },
  {
   "cell_type": "code",
   "execution_count": null,
   "metadata": {},
   "outputs": [],
   "source": [
    "#boxplot\n",
    "df_maiores_precos = df[df['state'].isin(states)]\n",
    "fig = px.box(df_maiores_precos, x=\"state\", y=\"sellingprice\", points=\"outliers\", color= \"state\", title=\"Estados com as maiores quantidade de carros de luxo\")\n",
    " \n",
    "fig.show()"
   ]
  },
  {
   "cell_type": "markdown",
   "metadata": {},
   "source": [
    "### Estados com as menores quantidade de carros de luxo"
   ]
  },
  {
   "cell_type": "code",
   "execution_count": null,
   "metadata": {},
   "outputs": [],
   "source": [
    "#filtro para recortar os estados que tem menos carros de luxo\n",
    "\n",
    "states = []\n",
    "\n",
    "for v in df[\"state\"].unique():\n",
    "    state_sellingprice = df[df['state'] == v]\n",
    "    c= 0\n",
    "    for p in state_sellingprice['sellingprice']:\n",
    "        if p >= 50000:\n",
    "            c += 1\n",
    "    if c < media:\n",
    "        states.append(v)\n",
    "        print(v,c)\n",
    "\n",
    "print(states)\n"
   ]
  },
  {
   "cell_type": "code",
   "execution_count": null,
   "metadata": {},
   "outputs": [],
   "source": [
    "#boxplot\n",
    "df_menores_precos = df[df['state'].isin(states)]\n",
    "fig = px.box(df_menores_precos, x=\"state\", y=\"sellingprice\", points=\"outliers\", color= \"state\", title=\"Estados com as menores quantidade de carros de luxo\")\n",
    " \n",
    "fig.show()"
   ]
  },
  {
   "cell_type": "code",
   "execution_count": null,
   "metadata": {},
   "outputs": [],
   "source": [
    "#histograma\n",
    "\n"
   ]
  },
  {
   "cell_type": "markdown",
   "metadata": {},
   "source": [
    "### Estados com carros usados"
   ]
  },
  {
   "cell_type": "code",
   "execution_count": null,
   "metadata": {},
   "outputs": [],
   "source": [
    "# Boxplot\n",
    "fig = px.box(df, x=\"state\", y=\"odometer\", points=\"outliers\", color= \"state\")\n",
    " \n",
    "fig.show()"
   ]
  },
  {
   "cell_type": "code",
   "execution_count": null,
   "metadata": {},
   "outputs": [],
   "source": [
    "quant_carros_usados = {}\n",
    "for s in df['state'].unique():\n",
    "    state_odometer = df[df['state'] == s]['odometer']\n",
    "    c= 0\n",
    "    for o in state_odometer:\n",
    "        if o == 0:\n",
    "            c+=1\n",
    "    quant_carros_usados[s] = c\n",
    "\n",
    "print(quant_carros_usados)"
   ]
  },
  {
   "cell_type": "markdown",
   "metadata": {},
   "source": [
    "# Ano"
   ]
  },
  {
   "cell_type": "markdown",
   "metadata": {},
   "source": [
    "### Sellingprice por ano"
   ]
  },
  {
   "cell_type": "code",
   "execution_count": null,
   "metadata": {},
   "outputs": [],
   "source": []
  }
 ],
 "metadata": {
  "kernelspec": {
   "display_name": "base",
   "language": "python",
   "name": "python3"
  },
  "language_info": {
   "codemirror_mode": {
    "name": "ipython",
    "version": 3
   },
   "file_extension": ".py",
   "mimetype": "text/x-python",
   "name": "python",
   "nbconvert_exporter": "python",
   "pygments_lexer": "ipython3",
   "version": "3.11.4"
  }
 },
 "nbformat": 4,
 "nbformat_minor": 2
}
