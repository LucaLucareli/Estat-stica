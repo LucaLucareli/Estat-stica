{
 "cells": [
  {
   "cell_type": "markdown",
   "metadata": {},
   "source": [
    "# Importações"
   ]
  },
  {
   "cell_type": "code",
   "execution_count": null,
   "metadata": {},
   "outputs": [],
   "source": [
    "import pandas as pd\n",
    "import plotly.graph_objects as go\n",
    "from plotly.subplots import make_subplots\n",
    "import numpy as np\n",
    "import plotly.express as px"
   ]
  },
  {
   "cell_type": "markdown",
   "metadata": {},
   "source": [
    "# Leitura "
   ]
  },
  {
   "cell_type": "code",
   "execution_count": null,
   "metadata": {},
   "outputs": [],
   "source": [
    "data_path = 'car_prices.csv'\n",
    "df = pd.read_csv(data_path).dropna()\n",
    "df = df[df['year'] >= 2000]"
   ]
  },
  {
   "cell_type": "code",
   "execution_count": null,
   "metadata": {},
   "outputs": [],
   "source": [
    "display(df.head())"
   ]
  },
  {
   "cell_type": "markdown",
   "metadata": {},
   "source": [
    "# Análises"
   ]
  },
  {
   "cell_type": "markdown",
   "metadata": {},
   "source": [
    "## Todos os sellingprices por estado"
   ]
  },
  {
   "cell_type": "code",
   "execution_count": null,
   "metadata": {},
   "outputs": [],
   "source": [
    "# Boxplot da contagem \n",
    "fig = px.box(df, x=\"state\", y=\"sellingprice\", points=\"outliers\", color= \"state\", width=1200, height=1200)\n",
    "fig.write_html(\"sellingprice_estado.html\")"
   ]
  },
  {
   "cell_type": "markdown",
   "metadata": {},
   "source": [
    "## Estados com as maiores quantidade de carros de luxo"
   ]
  },
  {
   "cell_type": "code",
   "execution_count": null,
   "metadata": {},
   "outputs": [],
   "source": [
    "media = int((df.loc[df['sellingprice'] >= 50000].count() / df['state'].nunique()).iloc[0]) #média da quantidade de carros de luxo por estado\n",
    "print(\"Média: \",media)"
   ]
  },
  {
   "cell_type": "code",
   "execution_count": null,
   "metadata": {},
   "outputs": [],
   "source": [
    "#filtro para recortar os estados que tem mais carros de luxo\n",
    "\n",
    "states = [] #estados com as maiores quantidade de carros de luxo\n",
    "contagemCarrosLuxo = [] #contagem de carros de luxo por estado \n",
    "\n",
    "print(\"Média: \",media)\n",
    "\n",
    "for v in df[\"state\"].unique():\n",
    "    state_sellingprice = df[df['state'] == v]\n",
    "    c= 0\n",
    "    for p in state_sellingprice['sellingprice']:\n",
    "        if p >= 50000:\n",
    "            c += 1\n",
    "            \n",
    "    contagemCarrosLuxo.append(c)\n",
    "    if c >= media:\n",
    "        states.append(v)\n",
    "        print(v,c)\n",
    "\n",
    "print(states)\n",
    "print(contagemCarrosLuxo)\n"
   ]
  },
  {
   "cell_type": "code",
   "execution_count": null,
   "metadata": {},
   "outputs": [],
   "source": [
    "df_estados_carros_luxo = pd.DataFrame({\n",
    "    \"Contagem de carros de luxo\": contagemCarrosLuxo\n",
    "})\n",
    "display(df_estados_carros_luxo.head())\n",
    "\n",
    "#boxplot da contagem de carros de luxo por estado\n",
    "fig = px.box(df_estados_carros_luxo,  x=\"Contagem de carros de luxo\", points=\"all\", title=\"Contagem de carros de luxo de cada estado\", width=1200, height=1200)\n",
    "fig.show()"
   ]
  },
  {
   "cell_type": "code",
   "execution_count": null,
   "metadata": {},
   "outputs": [],
   "source": [
    "#boxplot dos estados com as maiores quantidades de carro de luxo (zoom)\n",
    "df_maiores_precos = df[df['state'].isin(states)]\n",
    "fig = px.box(df_maiores_precos, x=\"state\", y=\"sellingprice\", points=\"outliers\", color= \"state\", title=\"Estados com as maiores quantidade de carros de luxo\", width=1200, height=1200)\n",
    " \n",
    "fig.show()"
   ]
  },
  {
   "cell_type": "markdown",
   "metadata": {},
   "source": [
    "## Estados com as menores quantidade de carros de luxo"
   ]
  },
  {
   "cell_type": "code",
   "execution_count": null,
   "metadata": {},
   "outputs": [],
   "source": [
    "#filtro para recortar os estados que tem menos carros de luxo\n",
    "\n",
    "states = [] \n",
    "\n",
    "for v in df[\"state\"].unique():\n",
    "    state_sellingprice = df[df['state'] == v]\n",
    "    c= 0\n",
    "    for p in state_sellingprice['sellingprice']:\n",
    "        if p >= 50000:\n",
    "            c += 1\n",
    "    if c < media:\n",
    "        states.append(v)\n",
    "        print(v,c)\n",
    "\n",
    "print(states)"
   ]
  },
  {
   "cell_type": "code",
   "execution_count": null,
   "metadata": {},
   "outputs": [],
   "source": [
    "#boxplot\n",
    "df_menores_precos = df[df['state'].isin(states)]\n",
    "fig = px.box(df_menores_precos, x=\"state\", y=\"sellingprice\", points=\"outliers\", color= \"state\", title=\"Estados com as menores quantidade de carros de luxo\", width=1200, height=1200)\n",
    "fig.show()"
   ]
  },
  {
   "cell_type": "markdown",
   "metadata": {},
   "source": [
    "## Histograma da quantidade de carros por preço (sellingprice)"
   ]
  },
  {
   "cell_type": "code",
   "execution_count": null,
   "metadata": {},
   "outputs": [],
   "source": [
    "quantidade_precos = df.groupby('sellingprice')['sellingprice'].count()\n",
    "df_quantidade_precos = pd.DataFrame({\n",
    "    \"sellingprice\" : quantidade_precos.keys() ,\n",
    "    \"quantidade\": quantidade_precos.values\n",
    "})\n",
    "display(df_quantidade_precos.head())\n"
   ]
  },
  {
   "cell_type": "code",
   "execution_count": null,
   "metadata": {},
   "outputs": [],
   "source": [
    "#histograma\n",
    "fig = px.histogram(df_quantidade_precos, x= \"sellingprice\", y = \"quantidade\", title=\"Quantidade de carros por sellingprice\", width=1200, height=1200)\n",
    "fig.show()"
   ]
  }
 ],
 "metadata": {
  "kernelspec": {
   "display_name": "base",
   "language": "python",
   "name": "python3"
  },
  "language_info": {
   "codemirror_mode": {
    "name": "ipython",
    "version": 3
   },
   "file_extension": ".py",
   "mimetype": "text/x-python",
   "name": "python",
   "nbconvert_exporter": "python",
   "pygments_lexer": "ipython3",
   "version": "3.11.4"
  }
 },
 "nbformat": 4,
 "nbformat_minor": 2
}
